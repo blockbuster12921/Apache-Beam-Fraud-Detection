{
  "nbformat": 4,
  "nbformat_minor": 0,
  "metadata": {
    "colab": {
      "provenance": []
    },
    "kernelspec": {
      "name": "python3",
      "display_name": "Python 3"
    },
    "language_info": {
      "name": "python"
    }
  },
  "cells": [
    {
      "cell_type": "markdown",
      "source": [
        "3: Fraud Use Case"
      ],
      "metadata": {
        "id": "HqW4VHyljvxo"
      }
    },
    {
      "cell_type": "markdown",
      "source": [
        "# 1. How do you retrieve data for processing (describe it without code)?\n",
        "When data is published to a topic (e.g., the \"metrics\" topic in this scenario), it typically resides in a message queue or a streaming platform, which allows multiple consumers to retrieve data for processing. In a PubSub model, you would have \"publishers\" that send data to the topic and \"subscribers\" that consume the data.\n",
        "\n",
        "To retrieve data for processing:\n",
        "\n",
        "\n",
        "1.   Set up a subscriber for the \"metrics\" topic.\n",
        "2.   The subscriber will listen for new messages being published to the topic.\n",
        "3.   As messages arrive in the topic, the subscriber retrieves them for processing.\n",
        "4.   Once a message is successfully consumed and acknowledged by the subscriber, it is typically removed from the queue (to prevent re-processing)."
      ],
      "metadata": {
        "id": "IJlr2ht-v8sZ"
      }
    },
    {
      "cell_type": "markdown",
      "source": [
        "# 2. PubSub costs have gone up after scaling out; why is that and how would you reduce it?\n",
        "When you scale your solution horizontally by adding more processing instances (pods), each pod will likely have its own subscriber to the PubSub system. Each subscriber performs a pull operation to fetch messages from the topic. If you're using a synchronous pull approach, each pull request may result in network and API call overheads. Thus, the increased number of pods (subscribers) leads to more frequent pull requests, which can raise the costs.\n",
        "\n",
        "To reduce costs:\n",
        "\n",
        "1. Batching: Instead of pulling messages one by one, use batched pull requests to retrieve multiple messages in a single pull. This reduces the number of API calls.\n",
        "2. Async Pull: Switch to an asynchronous pull approach, where the subscriber maintains an open connection to the PubSub system and receives messages as they arrive. This can reduce the frequency and overhead of the pull operations.\n",
        "3. Shared Subscription: Use shared subscription models, where multiple instances (pods) share a single subscription. This ensures that each message is delivered to one and only one pod, reducing overheads and potential duplication.\n"
      ],
      "metadata": {
        "id": "9fUmZhGnwUCN"
      }
    },
    {
      "cell_type": "markdown",
      "source": [],
      "metadata": {
        "id": "jUge6Y-Qwt-Y"
      }
    },
    {
      "cell_type": "markdown",
      "source": [
        "# 3. Deploying your Sklearn/Scikit model into a Beam pipeline:\n",
        "The Apache Beam Python SDK allows you to build data processing pipelines that can run on various runners including Dataflow. Here's a brief approach:\n",
        "\n",
        "1. Setup: Install the required packages (apache-beam and others) and set up the necessary environment for Beam.\n",
        "2. Read from PubSub: Use the ReadFromPubSub method in Beam to consume messages from the topic.\n",
        "3. Process Data: Once data is read, apply the necessary transformations and feed it to your Sklearn model for prediction.\n",
        "4. Write Results: After processing, you can write results (e.g., whether the data point is an outlier) to another PubSub topic or another sink.\n",
        "5. Run the Pipeline: Finally, run the pipeline on your desired runner, such as Dataflow.\n",
        "\n",
        "a simple Python code for this approach.\n",
        "\n",
        "\n",
        "\n",
        "```\n",
        "# This is a basic outline of what the Apache Beam pipeline code might look like.\n",
        "# Note: This is a mock code for illustrative purposes and won't run in this environment.\n",
        "\n",
        "# (We are not executing this; it's just to illustrate the concept.)\n",
        "\n",
        "\"\"\"\n",
        "from apache_beam import Pipeline, DoFn, ParDo\n",
        "from apache_beam.io import ReadFromPubSub, WriteToPubSub\n",
        "from sklearn.externals import joblib\n",
        "\n",
        "class PredictDoFn(DoFn):\n",
        "    def __init__(self, model_path):\n",
        "        self.model_path = model_path\n",
        "        self.model = None\n",
        "\n",
        "    def setup(self):\n",
        "        # Load the Sklearn model\n",
        "        self.model = joblib.load(self.model_path)\n",
        "\n",
        "    def process(self, element):\n",
        "        # Predict using the model\n",
        "        prediction = self.model.predict([element])\n",
        "        yield prediction\n",
        "\n",
        "def run_pipeline():\n",
        "    pipeline_options = ... # Setup pipeline options, e.g., for DataflowRunner\n",
        "    model_path = 'path_to_your_model.pkl'\n",
        "\n",
        "    with Pipeline(options=pipeline_options) as p:\n",
        "        (p | 'Read from PubSub' >> ReadFromPubSub(topic='your_topic_name')\n",
        "           | 'Predict using Sklearn' >> ParDo(PredictDoFn(model_path=model_path))\n",
        "           | 'Write Results to PubSub' >> WriteToPubSub(topic='your_output_topic_name'))\n",
        "\n",
        "run_pipeline()\n",
        "\"\"\"\n",
        "\n",
        "# Remember, this is just a skeleton of the code. In real-world scenarios,\n",
        "# more configurations, error handling, and transformations may be required.\n",
        "```\n",
        "Here's an illustrative overview of the Python code to deploy your Sklearn/Scikit model into a Beam pipeline:\n",
        "\n",
        "1. Import Necessary Libraries: We import the required modules from Apache Beam, including functionalities to read from and write to PubSub. We also import joblib from sklearn.externals to load our pre-trained Sklearn model.\n",
        "\n",
        "2. Define a DoFn for Prediction: The PredictDoFn class is a custom DoFn (Do Function) that will apply the model's prediction on each element (data point) it receives.\n",
        "In the setup method, we load our pre-trained Sklearn model.\n",
        "In the process method, we perform prediction using the loaded model for each incoming element and yield the prediction.\n",
        "3. Define the Pipeline:We set up pipeline options such as configurations for the DataflowRunner.\n",
        "We define our pipeline within the run_pipeline function:\n",
        "Read data from the PubSub topic using ReadFromPubSub.\n",
        "Predict using the Sklearn model with our custom PredictDoFn.\n",
        "Write the prediction results back to another PubSub topic using WriteToPubSub.\n",
        "4. Run the Pipeline: Finally, we initiate the pipeline execution with run_pipeline()\n"
      ],
      "metadata": {
        "id": "9pD87IsWwuTy"
      }
    },
    {
      "cell_type": "markdown",
      "source": [
        "#**Part 2: Streaming Applications**"
      ],
      "metadata": {
        "id": "765SaPhHjtQJ"
      }
    },
    {
      "cell_type": "code",
      "source": [
        "!pip install apache_beam\n",
        "!pip install sklearn\n",
        "!pip install matplotlib"
      ],
      "metadata": {
        "id": "gO7uRPveIwxL",
        "colab": {
          "base_uri": "https://localhost:8080/"
        },
        "outputId": "9a388d70-e4ea-4586-a302-a71f5feb401a"
      },
      "execution_count": 2,
      "outputs": [
        {
          "output_type": "stream",
          "name": "stdout",
          "text": [
            "Collecting apache_beam\n",
            "  Downloading apache_beam-2.50.0-cp310-cp310-manylinux_2_17_x86_64.manylinux2014_x86_64.whl (14.7 MB)\n",
            "\u001b[2K     \u001b[90m━━━━━━━━━━━━━━━━━━━━━━━━━━━━━━━━━━━━━━━━\u001b[0m \u001b[32m14.7/14.7 MB\u001b[0m \u001b[31m69.7 MB/s\u001b[0m eta \u001b[36m0:00:00\u001b[0m\n",
            "\u001b[?25hCollecting crcmod<2.0,>=1.7 (from apache_beam)\n",
            "  Downloading crcmod-1.7.tar.gz (89 kB)\n",
            "\u001b[2K     \u001b[90m━━━━━━━━━━━━━━━━━━━━━━━━━━━━━━━━━━━━━━━━\u001b[0m \u001b[32m89.7/89.7 kB\u001b[0m \u001b[31m9.8 MB/s\u001b[0m eta \u001b[36m0:00:00\u001b[0m\n",
            "\u001b[?25h  Preparing metadata (setup.py) ... \u001b[?25l\u001b[?25hdone\n",
            "Collecting orjson<4.0 (from apache_beam)\n",
            "  Downloading orjson-3.9.7-cp310-cp310-manylinux_2_17_x86_64.manylinux2014_x86_64.whl (138 kB)\n",
            "\u001b[2K     \u001b[90m━━━━━━━━━━━━━━━━━━━━━━━━━━━━━━━━━━━━━━━\u001b[0m \u001b[32m138.7/138.7 kB\u001b[0m \u001b[31m9.4 MB/s\u001b[0m eta \u001b[36m0:00:00\u001b[0m\n",
            "\u001b[?25hCollecting dill<0.3.2,>=0.3.1.1 (from apache_beam)\n",
            "  Downloading dill-0.3.1.1.tar.gz (151 kB)\n",
            "\u001b[2K     \u001b[90m━━━━━━━━━━━━━━━━━━━━━━━━━━━━━━━━━━━━━━\u001b[0m \u001b[32m152.0/152.0 kB\u001b[0m \u001b[31m18.0 MB/s\u001b[0m eta \u001b[36m0:00:00\u001b[0m\n",
            "\u001b[?25h  Preparing metadata (setup.py) ... \u001b[?25l\u001b[?25hdone\n",
            "Requirement already satisfied: cloudpickle~=2.2.1 in /usr/local/lib/python3.10/dist-packages (from apache_beam) (2.2.1)\n",
            "Collecting fastavro<2,>=0.23.6 (from apache_beam)\n",
            "  Downloading fastavro-1.8.4-cp310-cp310-manylinux_2_17_x86_64.manylinux2014_x86_64.whl (3.0 MB)\n",
            "\u001b[2K     \u001b[90m━━━━━━━━━━━━━━━━━━━━━━━━━━━━━━━━━━━━━━━━\u001b[0m \u001b[32m3.0/3.0 MB\u001b[0m \u001b[31m75.9 MB/s\u001b[0m eta \u001b[36m0:00:00\u001b[0m\n",
            "\u001b[?25hCollecting fasteners<1.0,>=0.3 (from apache_beam)\n",
            "  Downloading fasteners-0.19-py3-none-any.whl (18 kB)\n",
            "Requirement already satisfied: grpcio!=1.48.0,<2,>=1.33.1 in /usr/local/lib/python3.10/dist-packages (from apache_beam) (1.59.0)\n",
            "Collecting hdfs<3.0.0,>=2.1.0 (from apache_beam)\n",
            "  Downloading hdfs-2.7.2.tar.gz (43 kB)\n",
            "\u001b[2K     \u001b[90m━━━━━━━━━━━━━━━━━━━━━━━━━━━━━━━━━━━━━━━━\u001b[0m \u001b[32m43.4/43.4 kB\u001b[0m \u001b[31m4.8 MB/s\u001b[0m eta \u001b[36m0:00:00\u001b[0m\n",
            "\u001b[?25h  Preparing metadata (setup.py) ... \u001b[?25l\u001b[?25hdone\n",
            "Requirement already satisfied: httplib2<0.23.0,>=0.8 in /usr/local/lib/python3.10/dist-packages (from apache_beam) (0.22.0)\n",
            "Requirement already satisfied: numpy<1.25.0,>=1.14.3 in /usr/local/lib/python3.10/dist-packages (from apache_beam) (1.23.5)\n",
            "Collecting objsize<0.7.0,>=0.6.1 (from apache_beam)\n",
            "  Downloading objsize-0.6.1-py3-none-any.whl (9.3 kB)\n",
            "Collecting pymongo<5.0.0,>=3.8.0 (from apache_beam)\n",
            "  Downloading pymongo-4.5.0-cp310-cp310-manylinux_2_17_x86_64.manylinux2014_x86_64.whl (671 kB)\n",
            "\u001b[2K     \u001b[90m━━━━━━━━━━━━━━━━━━━━━━━━━━━━━━━━━━━━━━\u001b[0m \u001b[32m671.3/671.3 kB\u001b[0m \u001b[31m55.8 MB/s\u001b[0m eta \u001b[36m0:00:00\u001b[0m\n",
            "\u001b[?25hRequirement already satisfied: proto-plus<2,>=1.7.1 in /usr/local/lib/python3.10/dist-packages (from apache_beam) (1.22.3)\n",
            "Requirement already satisfied: protobuf<4.24.0,>=3.20.3 in /usr/local/lib/python3.10/dist-packages (from apache_beam) (3.20.3)\n",
            "Requirement already satisfied: pydot<2,>=1.2.0 in /usr/local/lib/python3.10/dist-packages (from apache_beam) (1.4.2)\n",
            "Requirement already satisfied: python-dateutil<3,>=2.8.0 in /usr/local/lib/python3.10/dist-packages (from apache_beam) (2.8.2)\n",
            "Requirement already satisfied: pytz>=2018.3 in /usr/local/lib/python3.10/dist-packages (from apache_beam) (2023.3.post1)\n",
            "Requirement already satisfied: regex>=2020.6.8 in /usr/local/lib/python3.10/dist-packages (from apache_beam) (2023.6.3)\n",
            "Requirement already satisfied: requests<3.0.0,>=2.24.0 in /usr/local/lib/python3.10/dist-packages (from apache_beam) (2.31.0)\n",
            "Requirement already satisfied: typing-extensions>=3.7.0 in /usr/local/lib/python3.10/dist-packages (from apache_beam) (4.5.0)\n",
            "Collecting zstandard<1,>=0.18.0 (from apache_beam)\n",
            "  Downloading zstandard-0.21.0-cp310-cp310-manylinux_2_17_x86_64.manylinux2014_x86_64.whl (2.7 MB)\n",
            "\u001b[2K     \u001b[90m━━━━━━━━━━━━━━━━━━━━━━━━━━━━━━━━━━━━━━━━\u001b[0m \u001b[32m2.7/2.7 MB\u001b[0m \u001b[31m36.2 MB/s\u001b[0m eta \u001b[36m0:00:00\u001b[0m\n",
            "\u001b[?25hRequirement already satisfied: pyarrow<12.0.0,>=3.0.0 in /usr/local/lib/python3.10/dist-packages (from apache_beam) (9.0.0)\n",
            "Collecting docopt (from hdfs<3.0.0,>=2.1.0->apache_beam)\n",
            "  Downloading docopt-0.6.2.tar.gz (25 kB)\n",
            "  Preparing metadata (setup.py) ... \u001b[?25l\u001b[?25hdone\n",
            "Requirement already satisfied: six>=1.9.0 in /usr/local/lib/python3.10/dist-packages (from hdfs<3.0.0,>=2.1.0->apache_beam) (1.16.0)\n",
            "Requirement already satisfied: pyparsing!=3.0.0,!=3.0.1,!=3.0.2,!=3.0.3,<4,>=2.4.2 in /usr/local/lib/python3.10/dist-packages (from httplib2<0.23.0,>=0.8->apache_beam) (3.1.1)\n",
            "Collecting dnspython<3.0.0,>=1.16.0 (from pymongo<5.0.0,>=3.8.0->apache_beam)\n",
            "  Downloading dnspython-2.4.2-py3-none-any.whl (300 kB)\n",
            "\u001b[2K     \u001b[90m━━━━━━━━━━━━━━━━━━━━━━━━━━━━━━━━━━━━━━\u001b[0m \u001b[32m300.4/300.4 kB\u001b[0m \u001b[31m28.4 MB/s\u001b[0m eta \u001b[36m0:00:00\u001b[0m\n",
            "\u001b[?25hRequirement already satisfied: charset-normalizer<4,>=2 in /usr/local/lib/python3.10/dist-packages (from requests<3.0.0,>=2.24.0->apache_beam) (3.3.0)\n",
            "Requirement already satisfied: idna<4,>=2.5 in /usr/local/lib/python3.10/dist-packages (from requests<3.0.0,>=2.24.0->apache_beam) (3.4)\n",
            "Requirement already satisfied: urllib3<3,>=1.21.1 in /usr/local/lib/python3.10/dist-packages (from requests<3.0.0,>=2.24.0->apache_beam) (2.0.6)\n",
            "Requirement already satisfied: certifi>=2017.4.17 in /usr/local/lib/python3.10/dist-packages (from requests<3.0.0,>=2.24.0->apache_beam) (2023.7.22)\n",
            "Building wheels for collected packages: crcmod, dill, hdfs, docopt\n",
            "  Building wheel for crcmod (setup.py) ... \u001b[?25l\u001b[?25hdone\n",
            "  Created wheel for crcmod: filename=crcmod-1.7-cp310-cp310-linux_x86_64.whl size=31406 sha256=041adec625f17db0800754511bd5957ed6e5138c1ec94493358f29ea21227b02\n",
            "  Stored in directory: /root/.cache/pip/wheels/85/4c/07/72215c529bd59d67e3dac29711d7aba1b692f543c808ba9e86\n",
            "  Building wheel for dill (setup.py) ... \u001b[?25l\u001b[?25hdone\n",
            "  Created wheel for dill: filename=dill-0.3.1.1-py3-none-any.whl size=78542 sha256=ab7e7c5a4473cc266313031562ab6a38af4c9c1a424ddd28ec8b7766cd63db11\n",
            "  Stored in directory: /root/.cache/pip/wheels/ea/e2/86/64980d90e297e7bf2ce588c2b96e818f5399c515c4bb8a7e4f\n",
            "  Building wheel for hdfs (setup.py) ... \u001b[?25l\u001b[?25hdone\n",
            "  Created wheel for hdfs: filename=hdfs-2.7.2-py3-none-any.whl size=34168 sha256=0c82cc4e07d87553f97051e00a19d0b5b88f8b5e672c67ead351a889e2314c82\n",
            "  Stored in directory: /root/.cache/pip/wheels/ab/39/8e/e1905de9af8ae74911cd3e53e721995cd230816f63776e5825\n",
            "  Building wheel for docopt (setup.py) ... \u001b[?25l\u001b[?25hdone\n",
            "  Created wheel for docopt: filename=docopt-0.6.2-py2.py3-none-any.whl size=13705 sha256=946938762a1dc412520008a3a06847bb8d06a0269f2dc9323a3a7b92aae986f7\n",
            "  Stored in directory: /root/.cache/pip/wheels/fc/ab/d4/5da2067ac95b36618c629a5f93f809425700506f72c9732fac\n",
            "Successfully built crcmod dill hdfs docopt\n",
            "Installing collected packages: docopt, crcmod, zstandard, orjson, objsize, fasteners, fastavro, dnspython, dill, pymongo, hdfs, apache_beam\n",
            "Successfully installed apache_beam-2.50.0 crcmod-1.7 dill-0.3.1.1 dnspython-2.4.2 docopt-0.6.2 fastavro-1.8.4 fasteners-0.19 hdfs-2.7.2 objsize-0.6.1 orjson-3.9.7 pymongo-4.5.0 zstandard-0.21.0\n",
            "Collecting sklearn\n",
            "  Downloading sklearn-0.0.post9.tar.gz (3.6 kB)\n",
            "  Preparing metadata (setup.py) ... \u001b[?25l\u001b[?25hdone\n",
            "Building wheels for collected packages: sklearn\n",
            "  Building wheel for sklearn (setup.py) ... \u001b[?25l\u001b[?25hdone\n",
            "  Created wheel for sklearn: filename=sklearn-0.0.post9-py3-none-any.whl size=2952 sha256=2645fcc54c3703a5dc9f0533b7ffcc03be94d1e9969c16e5fa919e0ba3eeb888\n",
            "  Stored in directory: /root/.cache/pip/wheels/33/a3/d2/092b519e9522b4c91608b7dcec0dd9051fa1bff4c45f4502d1\n",
            "Successfully built sklearn\n",
            "Installing collected packages: sklearn\n",
            "Successfully installed sklearn-0.0.post9\n",
            "Requirement already satisfied: matplotlib in /usr/local/lib/python3.10/dist-packages (3.7.1)\n",
            "Requirement already satisfied: contourpy>=1.0.1 in /usr/local/lib/python3.10/dist-packages (from matplotlib) (1.1.1)\n",
            "Requirement already satisfied: cycler>=0.10 in /usr/local/lib/python3.10/dist-packages (from matplotlib) (0.12.0)\n",
            "Requirement already satisfied: fonttools>=4.22.0 in /usr/local/lib/python3.10/dist-packages (from matplotlib) (4.43.0)\n",
            "Requirement already satisfied: kiwisolver>=1.0.1 in /usr/local/lib/python3.10/dist-packages (from matplotlib) (1.4.5)\n",
            "Requirement already satisfied: numpy>=1.20 in /usr/local/lib/python3.10/dist-packages (from matplotlib) (1.23.5)\n",
            "Requirement already satisfied: packaging>=20.0 in /usr/local/lib/python3.10/dist-packages (from matplotlib) (23.2)\n",
            "Requirement already satisfied: pillow>=6.2.0 in /usr/local/lib/python3.10/dist-packages (from matplotlib) (9.4.0)\n",
            "Requirement already satisfied: pyparsing>=2.3.1 in /usr/local/lib/python3.10/dist-packages (from matplotlib) (3.1.1)\n",
            "Requirement already satisfied: python-dateutil>=2.7 in /usr/local/lib/python3.10/dist-packages (from matplotlib) (2.8.2)\n",
            "Requirement already satisfied: six>=1.5 in /usr/local/lib/python3.10/dist-packages (from python-dateutil>=2.7->matplotlib) (1.16.0)\n"
          ]
        }
      ]
    },
    {
      "cell_type": "code",
      "source": [
        "#MOUNT Google Drive\n",
        "from google.colab import drive\n",
        "drive.mount('/content/drive')"
      ],
      "metadata": {
        "colab": {
          "base_uri": "https://localhost:8080/"
        },
        "id": "u07uiTIpZLi-",
        "outputId": "13ef268d-f078-4c9f-fae6-c7d4cfa32ca4"
      },
      "execution_count": 3,
      "outputs": [
        {
          "output_type": "stream",
          "name": "stdout",
          "text": [
            "Mounted at /content/drive\n"
          ]
        }
      ]
    },
    {
      "cell_type": "markdown",
      "source": [
        "**1.\tJoin the input files as streams using CoGroupByKey**"
      ],
      "metadata": {
        "id": "6-o1oKeAe7rq"
      }
    },
    {
      "cell_type": "code",
      "source": [
        "import apache_beam as beam\n",
        "from apache_beam.options.pipeline_options import PipelineOptions\n",
        "from apache_beam.io import ReadFromText\n",
        "from apache_beam.io import WriteToText\n",
        "\n",
        "# Define the pipeline\n",
        "pipeline_options = PipelineOptions()\n",
        "p = beam.Pipeline(options=pipeline_options)\n",
        "\n",
        "# Define a function to parse the users.csv lines\n",
        "def parse_users_csv(line):\n",
        "    fields = line.split('\\t')\n",
        "    user_id = str(fields[0].strip())\n",
        "    return (user_id, fields[1:])\n",
        "\n",
        "# Define a function to parse the orders.csv lines\n",
        "def parse_orders_csv(line):\n",
        "    fields = line.split(';')\n",
        "    user_id = str(fields[1].strip())\n",
        "    return (user_id, fields[0:])\n",
        "\n",
        "# Read and parse users.csv\n",
        "users = (p | 'Read Users CSV' >> ReadFromText('/content/drive/My Drive/Datasets/users_v.csv')\n",
        "          | 'Parse Users CSV' >> beam.Map(parse_users_csv))\n",
        "\n",
        "# Read and parse orders.csv\n",
        "orders = (p | 'Read Orders CSV' >> ReadFromText('/content/drive/My Drive/Datasets/orders_v_2022.csv')\n",
        "          | 'Parse Orders CSV' >> beam.Map(parse_orders_csv))\n",
        "\n",
        "# Join using CoGroupByKey\n",
        "joined = ({'users': users, 'orders': orders} | 'Join Data' >> beam.CoGroupByKey())\n",
        "\n",
        "# For demonstration, we'll write the joined results to a file\n",
        "(joined | 'Write Results' >> WriteToText('/content/drive/My Drive/Datasets/joined_results.txt'))\n",
        "\n",
        "# Run the pipeline\n",
        "p.run()\n"
      ],
      "metadata": {
        "id": "fxP6UAL32KUZ",
        "colab": {
          "base_uri": "https://localhost:8080/",
          "height": 110
        },
        "outputId": "1904687f-a3c1-4bc7-c58a-152e2a2cdf70"
      },
      "execution_count": 4,
      "outputs": [
        {
          "output_type": "stream",
          "name": "stderr",
          "text": [
            "WARNING:apache_beam.runners.interactive.interactive_environment:Dependencies required for Interactive Beam PCollection visualization are not available, please use: `pip install apache-beam[interactive]` to install necessary dependencies to enable all data visualization features.\n"
          ]
        },
        {
          "output_type": "display_data",
          "data": {
            "application/javascript": [
              "\n",
              "        if (typeof window.interactive_beam_jquery == 'undefined') {\n",
              "          var jqueryScript = document.createElement('script');\n",
              "          jqueryScript.src = 'https://code.jquery.com/jquery-3.4.1.slim.min.js';\n",
              "          jqueryScript.type = 'text/javascript';\n",
              "          jqueryScript.onload = function() {\n",
              "            var datatableScript = document.createElement('script');\n",
              "            datatableScript.src = 'https://cdn.datatables.net/1.10.20/js/jquery.dataTables.min.js';\n",
              "            datatableScript.type = 'text/javascript';\n",
              "            datatableScript.onload = function() {\n",
              "              window.interactive_beam_jquery = jQuery.noConflict(true);\n",
              "              window.interactive_beam_jquery(document).ready(function($){\n",
              "                \n",
              "              });\n",
              "            }\n",
              "            document.head.appendChild(datatableScript);\n",
              "          };\n",
              "          document.head.appendChild(jqueryScript);\n",
              "        } else {\n",
              "          window.interactive_beam_jquery(document).ready(function($){\n",
              "            \n",
              "          });\n",
              "        }"
            ]
          },
          "metadata": {}
        },
        {
          "output_type": "stream",
          "name": "stderr",
          "text": [
            "WARNING:apache_beam.options.pipeline_options:Discarding unparseable args: ['-f', '/root/.local/share/jupyter/runtime/kernel-b3bebe3b-c595-4a2c-855a-009247ef05f9.json']\n",
            "WARNING:apache_beam.options.pipeline_options:Discarding unparseable args: ['-f', '/root/.local/share/jupyter/runtime/kernel-b3bebe3b-c595-4a2c-855a-009247ef05f9.json']\n"
          ]
        },
        {
          "output_type": "execute_result",
          "data": {
            "text/plain": [
              "<apache_beam.runners.portability.fn_api_runner.fn_runner.RunnerResult at 0x7b13c57a29b0>"
            ]
          },
          "metadata": {},
          "execution_count": 4
        }
      ]
    },
    {
      "cell_type": "markdown",
      "source": [
        "**2.\tPerform a transformation that determines the average number of orders for female and male customers, respectively. Output the result as text in the notebook.**"
      ],
      "metadata": {
        "id": "xO1wSYBhfXsq"
      }
    },
    {
      "cell_type": "code",
      "source": [
        "import apache_beam as beam\n",
        "from apache_beam.io import ReadFromText, WriteToText\n",
        "\n",
        "# Define the pipeline\n",
        "p = beam.Pipeline()\n",
        "\n",
        "# Define parsing functions (assuming they're the same as the ones you've defined previously)\n",
        "def parse_users_csv(line):\n",
        "    fields = line.split('\\t')\n",
        "    user_id = str(fields[0].strip())\n",
        "    return (user_id, fields[1:])\n",
        "\n",
        "def parse_orders_csv(line):\n",
        "    fields = line.split(';')\n",
        "    user_id = str(fields[1].strip())\n",
        "    return (user_id, fields[0:])\n",
        "\n",
        "# Read and parse users.csv\n",
        "users = (p | 'Read Users CSV' >> ReadFromText('/content/drive/My Drive/Datasets/users_v.csv')\n",
        "          | 'Parse Users CSV' >> beam.Map(parse_users_csv))\n",
        "\n",
        "# Read and parse orders.csv\n",
        "orders = (p | 'Read Orders CSV 2' >> ReadFromText('/content/drive/My Drive/Datasets/orders_v_2022.csv')\n",
        "          | 'Parse Orders CSV 2' >> beam.Map(parse_orders_csv))\n",
        "\n",
        "# Join using CoGroupByKey\n",
        "joined = ({'users': users, 'orders': orders} | 'Join Data 2' >> beam.CoGroupByKey())\n",
        "\n",
        "# Rest of your code remains mostly unchanged:\n",
        "\n",
        "# Define a function to count orders by gender\n",
        "def count_orders(element, gender):\n",
        "    user_id, data = element\n",
        "    user_data, orders_data = data['users'], data['orders']\n",
        "\n",
        "    print(\"User Data:\", user_data)\n",
        "    print(\"Orders Data:\", orders_data)\n",
        "    if not user_data:\n",
        "        return (gender, 0)\n",
        "\n",
        "    if len(user_data[0]) < 2:\n",
        "        return (gender, 0)\n",
        "\n",
        "    if user_data[0][1] == gender:\n",
        "        return (gender, len(orders_data))\n",
        "    else:\n",
        "        return (gender, 0)\n",
        "\n",
        "\n",
        "# Implementing the Apache Beam pipeline to process the datasets\n",
        "\n",
        "# Updated pipeline\n",
        "p_updated = beam.Pipeline()\n",
        "\n",
        "# Read and parse users.csv\n",
        "users = (p_updated\n",
        "         | 'Read Users CSV Updated' >> ReadFromText('/content/drive/My Drive/Datasets/users_v.csv', skip_header_lines=1)\n",
        "         | 'Parse Users CSV Updated' >> beam.Map(parse_users_csv))\n",
        "\n",
        "# Read and parse orders.csv\n",
        "orders = (p_updated\n",
        "          | 'Read Orders CSV Updated' >> ReadFromText('/content/drive/My Drive/Datasets/orders_v_2022.csv', skip_header_lines=1)\n",
        "          | 'Parse Orders CSV Updated' >> beam.Map(parse_orders_csv))\n",
        "\n",
        "# Join using CoGroupByKey\n",
        "joined = ({'users': users, 'orders': orders}\n",
        "          | 'Join Data Updated' >> beam.CoGroupByKey())\n",
        "\n",
        "# Count orders for male and female customers\n",
        "male_orders = joined | 'Filter and Count Male Orders Updated' >> beam.Map(count_orders, 'male')\n",
        "female_orders = joined | 'Filter and Count Female Orders Updated' >> beam.Map(count_orders, 'female')\n",
        "\n",
        "# Compute the average number of orders for male and female customers\n",
        "average_male_orders = (male_orders\n",
        "                       | 'Average Male Orders Updated' >> beam.CombinePerKey(beam.combiners.MeanCombineFn()))\n",
        "average_female_orders = (female_orders\n",
        "                         | 'Average Female Orders Updated' >> beam.CombinePerKey(beam.combiners.MeanCombineFn()))\n",
        "\n",
        "# Flatten the results from male and female pipelines into a single PCollection\n",
        "results_updated = [average_male_orders, average_female_orders] | beam.Flatten()\n",
        "\n",
        "# Write the results to a file\n",
        "results_path = '/content/drive/My Drive/Datasets/average_orders_by_gender_updated.txt'\n",
        "results_updated | 'Write Average Results Updated' >> beam.io.WriteToText(results_path, shard_name_template='')\n",
        "\n",
        "# Run the pipeline\n",
        "p_updated.run()\n",
        "\n",
        "results_path\n",
        "\n"
      ],
      "metadata": {
        "id": "L8crSOiW2Ocv"
      },
      "execution_count": null,
      "outputs": []
    },
    {
      "cell_type": "markdown",
      "source": [
        "**3.\tDuplicate the code of previous question (in a new cell) and split your pipe to produce/emit the total number or orders processed as an additional text output (i.e. output the number of orders processed as well the average orders for female and male customers).**"
      ],
      "metadata": {
        "id": "K04_81uFgEQE"
      }
    },
    {
      "cell_type": "code",
      "source": [
        "# Import necessary modules\n",
        "import apache_beam as beam\n",
        "from apache_beam.io import WriteToText\n",
        "from apache_beam.options.pipeline_options import PipelineOptions\n",
        "\n",
        "# Define the count_orders function (make sure it's error-resistant as previously modified)\n",
        "\n",
        "def count_orders(element, gender):\n",
        "    user_id, data = element\n",
        "    user_data, orders_data = data['users'], data['orders']\n",
        "    if user_data and user_data[0][1] == gender:\n",
        "        return (gender, len(orders_data))\n",
        "    else:\n",
        "        return (gender, 0)\n",
        "\n",
        "# Create the Beam pipeline\n",
        "pipeline_options = PipelineOptions()\n",
        "p = beam.Pipeline(options=pipeline_options)\n",
        "\n",
        "# Total number of orders\n",
        "total_orders = (joined\n",
        "                | 'Extract All Orders' >> beam.FlatMap(lambda x: x[1]['orders'])\n",
        "                | 'Count All Orders' >> beam.combiners.Count.Globally()\n",
        "                | 'Write Total Orders' >> WriteToText('/content/drive/My Drive/Datasets/total_orders.txt'))\n",
        "\n",
        "# Count orders for male and female customers\n",
        "male_orders = joined | 'Filter and Count Male Orders' >> beam.Map(count_orders, 'male')\n",
        "female_orders = joined | 'Filter and Count Female Orders' >> beam.Map(count_orders, 'female')\n",
        "\n",
        "# Compute the average number of orders for male and female customers\n",
        "average_male_orders = (male_orders\n",
        "                       | 'Average Male Orders' >> beam.CombinePerKey(beam.combiners.MeanCombineFn()))\n",
        "average_female_orders = (female_orders\n",
        "                         | 'Average Female Orders' >> beam.CombinePerKey(beam.combiners.MeanCombineFn()))\n",
        "\n",
        "# Combine results\n",
        "results = [average_male_orders, average_female_orders] | beam.Flatten()\n",
        "\n",
        "# For demonstration, write the results to a file\n",
        "results | 'Write Average Results' >> WriteToText('/content/drive/My Drive/Datasets/average_orders_by_gender2.txt')\n",
        "\n",
        "# Run the pipeline\n",
        "result = p.run()\n",
        "result.wait_until_finish()\n"
      ],
      "metadata": {
        "id": "mi0IO4sS3FSx",
        "colab": {
          "base_uri": "https://localhost:8080/",
          "height": 72
        },
        "outputId": "94eeb825-3b5b-40f4-8a5d-1038c0c52d7d"
      },
      "execution_count": 6,
      "outputs": [
        {
          "output_type": "stream",
          "name": "stderr",
          "text": [
            "WARNING:apache_beam.options.pipeline_options:Discarding unparseable args: ['-f', '/root/.local/share/jupyter/runtime/kernel-b3bebe3b-c595-4a2c-855a-009247ef05f9.json']\n",
            "WARNING:apache_beam.options.pipeline_options:Discarding unparseable args: ['-f', '/root/.local/share/jupyter/runtime/kernel-b3bebe3b-c595-4a2c-855a-009247ef05f9.json']\n"
          ]
        },
        {
          "output_type": "execute_result",
          "data": {
            "text/plain": [
              "'DONE'"
            ],
            "application/vnd.google.colaboratory.intrinsic+json": {
              "type": "string"
            }
          },
          "metadata": {},
          "execution_count": 6
        }
      ]
    },
    {
      "cell_type": "markdown",
      "source": [
        "**4.\tGenerate a graph (using the Beam library) of your pipeline and upload the image file to us.**"
      ],
      "metadata": {
        "id": "-acf2A8CchFS"
      }
    },
    {
      "cell_type": "code",
      "source": [
        "from apache_beam.runners.interactive.interactive_runner import InteractiveRunner\n",
        "import apache_beam.runners.interactive.interactive_beam as ib\n",
        "from apache_beam.io import ReadFromText, WriteToText\n",
        "import apache_beam as beam\n",
        "\n",
        "# Functions to parse the CSV files\n",
        "def parse_users_csv(line):\n",
        "    fields = line.split('\\t')\n",
        "    if len(fields) < 6:  # Assuming there are 6 columns in users.csv\n",
        "        return (None, [])  # Return a dummy value for improperly formatted lines\n",
        "    user_id = fields[0]\n",
        "    return (user_id, fields[1:])\n",
        "\n",
        "def parse_orders_csv(line):\n",
        "    fields = line.split(';')\n",
        "    if len(fields) < 2:  # Assuming there are at least 2 columns in orders.csv\n",
        "        return (None, [])  # Return a dummy value for improperly formatted lines\n",
        "    user_id = fields[1]\n",
        "    return (user_id, fields[0:])\n",
        "\n",
        "def count_orders(element, gender):\n",
        "    user_id, data = element\n",
        "    user_data, orders_data = data['users'], data['orders']\n",
        "\n",
        "    # Safety check: Ensure user_data has at least one record with at least two elements\n",
        "    if not user_data or len(user_data[0]) < 2:\n",
        "        return (gender, 0)\n",
        "\n",
        "    if user_data[0][1] == gender:\n",
        "        return (gender, len(orders_data))\n",
        "    else:\n",
        "        return (gender, 0)\n",
        "\n",
        "# Create a pipeline with the InteractiveRunner\n",
        "p = beam.Pipeline(runner=InteractiveRunner())\n",
        "\n",
        "# Read and parse the CSV files\n",
        "users = (p | 'Read Users CSV' >> ReadFromText('/content/drive/My Drive/Datasets/users_v.csv')\n",
        "          | 'Parse Users CSV' >> beam.Map(parse_users_csv))\n",
        "\n",
        "orders = (p | 'Read Orders CSV' >> ReadFromText('/content/drive/My Drive/Datasets/orders_v_2022.csv')\n",
        "          | 'Parse Orders CSV' >> beam.Map(parse_orders_csv))\n",
        "\n",
        "# Join the data\n",
        "joined = ({'users': users, 'orders': orders} | 'Join Data' >> beam.CoGroupByKey())\n",
        "\n",
        "# Total number of orders\n",
        "total_orders = (joined\n",
        "                | 'Extract All Orders' >> beam.FlatMap(lambda x: x[1]['orders'])\n",
        "                | 'Count All Orders' >> beam.combiners.Count.Globally())\n",
        "total_orders | 'Write Total Orders' >> WriteToText('total_orders.txt')\n",
        "\n",
        "# Average orders by gender\n",
        "male_orders = joined | 'Filter and Count Male Orders' >> beam.Map(count_orders, 'male')\n",
        "female_orders = joined | 'Filter and Count Female Orders' >> beam.Map(count_orders, 'female')\n",
        "\n",
        "average_male_orders = (male_orders\n",
        "                       | 'Average Male Orders' >> beam.CombinePerKey(beam.combiners.MeanCombineFn()))\n",
        "average_female_orders = (female_orders\n",
        "                         | 'Average Female Orders' >> beam.CombinePerKey(beam.combiners.MeanCombineFn()))\n",
        "\n",
        "results = [average_male_orders, average_female_orders] | beam.Flatten()\n",
        "results | 'Write Average Results' >> WriteToText('/content/drive/My Drive/Datasets/average_orders_by_gender.txt')\n",
        "\n",
        "# Visualize the pipeline\n",
        "# Run the pipeline\n",
        "result = p.run()\n",
        "result.wait_until_finish()\n",
        "\n",
        "# Visualize the pipeline\n",
        "ib.show(average_male_orders, average_female_orders)\n"
      ],
      "metadata": {
        "id": "OSB5jxkO3Hns",
        "colab": {
          "base_uri": "https://localhost:8080/",
          "height": 42
        },
        "outputId": "dc4d4a43-e361-4d99-b90a-aee0242c77cf"
      },
      "execution_count": 7,
      "outputs": [
        {
          "output_type": "stream",
          "name": "stderr",
          "text": [
            "WARNING:apache_beam.io.filebasedsink:Deleting 1 existing files in target path matching: -*-of-%(num_shards)05d\n"
          ]
        },
        {
          "output_type": "display_data",
          "data": {
            "text/plain": [
              "<IPython.core.display.HTML object>"
            ],
            "text/html": [
              "\n",
              "            <link rel=\"stylesheet\" href=\"https://stackpath.bootstrapcdn.com/bootstrap/4.4.1/css/bootstrap.min.css\" integrity=\"sha384-Vkoo8x4CGsO3+Hhxv8T/Q5PaXtkKtu6ug5TOeNV6gBiFeWPGFN9MuhOf23Q9Ifjh\" crossorigin=\"anonymous\">\n",
              "            <div id=\"progress_indicator_f2637ff99856aa31944289cc8920cd55\">\n",
              "              <div class=\"spinner-border text-info\" role=\"status\"></div>\n",
              "              <span class=\"text-info\">Processing... show</span>\n",
              "            </div>\n",
              "            "
            ]
          },
          "metadata": {}
        },
        {
          "output_type": "display_data",
          "data": {
            "application/javascript": [
              "\n",
              "        if (typeof window.interactive_beam_jquery == 'undefined') {\n",
              "          var jqueryScript = document.createElement('script');\n",
              "          jqueryScript.src = 'https://code.jquery.com/jquery-3.4.1.slim.min.js';\n",
              "          jqueryScript.type = 'text/javascript';\n",
              "          jqueryScript.onload = function() {\n",
              "            var datatableScript = document.createElement('script');\n",
              "            datatableScript.src = 'https://cdn.datatables.net/1.10.20/js/jquery.dataTables.min.js';\n",
              "            datatableScript.type = 'text/javascript';\n",
              "            datatableScript.onload = function() {\n",
              "              window.interactive_beam_jquery = jQuery.noConflict(true);\n",
              "              window.interactive_beam_jquery(document).ready(function($){\n",
              "                \n",
              "            $(\"#progress_indicator_f2637ff99856aa31944289cc8920cd55\").remove();\n",
              "              });\n",
              "            }\n",
              "            document.head.appendChild(datatableScript);\n",
              "          };\n",
              "          document.head.appendChild(jqueryScript);\n",
              "        } else {\n",
              "          window.interactive_beam_jquery(document).ready(function($){\n",
              "            \n",
              "            $(\"#progress_indicator_f2637ff99856aa31944289cc8920cd55\").remove();\n",
              "          });\n",
              "        }"
            ]
          },
          "metadata": {}
        }
      ]
    },
    {
      "cell_type": "markdown",
      "source": [
        "1. **5.\tPerform a transformation that groups users into age groups [16-26), [26-36), [36-46), [46-56), and determine the total number of orders placed by customers in each age group.**\n",
        "2. **6.\tDetermine the total number of times that spinach was purchased within the [16-26), [26-36), [36-46), [46-56) age groups.**\n",
        "\n"
      ],
      "metadata": {
        "id": "z0oYibtUn__S"
      }
    },
    {
      "cell_type": "code",
      "source": [
        "from apache_beam.runners.interactive.interactive_runner import InteractiveRunner\n",
        "import apache_beam.runners.interactive.interactive_beam as ib\n",
        "from apache_beam.io import ReadFromText, WriteToText\n",
        "import apache_beam as beam\n",
        "\n",
        "# Define the function to classify age groups\n",
        "def classify_age_group(user_data):\n",
        "    \"\"\"Classify users into age groups based on their age.\"\"\"\n",
        "\n",
        "    # Safety check\n",
        "    if len(user_data) < 3:\n",
        "        return 'unknown'\n",
        "\n",
        "    try:\n",
        "        age = int(user_data[2])\n",
        "    except ValueError:\n",
        "        return 'unknown'\n",
        "\n",
        "    if 16 <= age < 26:\n",
        "        return '16-26'\n",
        "    elif 26 <= age < 36:\n",
        "        return '26-36'\n",
        "    elif 36 <= age < 46:\n",
        "        return '36-46'\n",
        "    elif 46 <= age < 56:\n",
        "        return '46-56'\n",
        "    else:\n",
        "        return 'other'\n",
        "\n",
        "def extract_orders_by_age(element):\n",
        "    users_data = element[1].get('users', [])\n",
        "    orders_data = element[1].get('orders', [])\n",
        "\n",
        "    # Check if users_data exists and is not empty\n",
        "    if not users_data:\n",
        "        return []\n",
        "\n",
        "    return [(users_data[0][0], order) for order in orders_data]\n",
        "\n",
        "# Create a pipeline with the InteractiveRunner\n",
        "p = beam.Pipeline(runner=InteractiveRunner())\n",
        "\n",
        "# Read and parse the CSV files\n",
        "users = (p | 'Read Users CSV' >> ReadFromText('/content/drive/My Drive/Datasets/users_v.csv')\n",
        "          | 'Parse Users CSV' >> beam.Map(parse_users_csv))\n",
        "\n",
        "orders = (p | 'Read Orders CSV' >> ReadFromText('/content/drive/My Drive/Datasets/orders_v_2022.csv')\n",
        "          | 'Parse Orders CSV' >> beam.Map(parse_orders_csv))\n",
        "\n",
        "# Classify users into age groups\n",
        "users_with_age_group = users | 'Classify Age Group' >> beam.Map(lambda x: (x[0], (classify_age_group(x[1]), x[1])))\n",
        "\n",
        "# Join with orders data\n",
        "joined_by_age = ({'users': users_with_age_group, 'orders': orders} | 'Join by Age' >> beam.CoGroupByKey())\n",
        "\n",
        "# Count orders by age group\n",
        "orders_by_age = (joined_by_age\n",
        "                 | 'Extract Orders by Age' >> beam.FlatMap(extract_orders_by_age)\n",
        "                 | 'Count Orders by Age' >> beam.combiners.Count.PerKey())\n",
        "orders_by_age | 'Write Orders by Age' >> WriteToText('orders_by_age.txt')\n",
        "\n",
        "# Count spinach purchases by age group\n",
        "spinach_orders_by_age = (joined_by_age\n",
        "                         | 'Extract Spinach Orders by Age' >> beam.FlatMap(lambda x: [(x[1]['users'][0][0], order) for order in x[1]['orders'] if 'Spinach' in order[1]])\n",
        "                         | 'Count Spinach Orders by Age' >> beam.combiners.Count.PerKey())\n",
        "spinach_orders_by_age | 'Write Spinach Orders by Age' >> WriteToText('/content/drive/My Drive/Datasets/samplespinach_orders_by_age.txt')\n",
        "\n",
        "# Run the pipeline\n",
        "p.run()\n"
      ],
      "metadata": {
        "id": "2i3tk0fMCnFM",
        "colab": {
          "base_uri": "https://localhost:8080/"
        },
        "outputId": "7a0afea9-cac0-4e4f-b619-9c6cd1956061"
      },
      "execution_count": 8,
      "outputs": [
        {
          "output_type": "stream",
          "name": "stderr",
          "text": [
            "WARNING:apache_beam.io.filebasedsink:No shards found to finalize. num_shards: 1, skipped: 1\n"
          ]
        },
        {
          "output_type": "execute_result",
          "data": {
            "text/plain": [
              "<apache_beam.runners.interactive.interactive_runner.PipelineResult at 0x7b13a2896d70>"
            ]
          },
          "metadata": {},
          "execution_count": 8
        }
      ]
    },
    {
      "cell_type": "markdown",
      "source": [
        "#Stream Analytics Cont."
      ],
      "metadata": {
        "id": "yRf-UWKhpUAt"
      }
    },
    {
      "cell_type": "markdown",
      "source": [
        "1.\tWrite a pipeline which calculates the average number of orders over seven and thirty day rolling windows (where the period of each window is one day).\n",
        "2.\tModify this pipeline to write the output files to Parquet instead of CSV.\n"
      ],
      "metadata": {
        "id": "Tziwv5I_pWHd"
      }
    },
    {
      "cell_type": "code",
      "source": [
        "from datetime import datetime\n",
        "from apache_beam.transforms.window import SlidingWindows\n",
        "from apache_beam.io.parquetio import WriteToParquet\n",
        "from pyarrow import table\n",
        "import pyarrow as pa\n",
        "# Define the schema for the Parquet output\n",
        "parquet_schema = pa.schema([\n",
        "    ('window', pa.string()),  # Assuming window is a string representation\n",
        "    ('average_orders', pa.float64())\n",
        "])\n",
        "# Parse the date from the orders CSV\n",
        "def parse_date_from_order(order):\n",
        "    date_str = order[3]\n",
        "    return datetime.strptime(date_str, '%Y-%m-%d')\n",
        "\n",
        "# Pipeline setup\n",
        "p = beam.Pipeline()\n",
        "\n",
        "# Read and parse the orders CSV\n",
        "orders = (p | 'Read Orders CSV' >> ReadFromText('/content/drive/My Drive/Datasets/orders_v_2022.csv')\n",
        "          | 'Parse Orders CSV' >> beam.Map(parse_orders_csv))\n",
        "\n",
        "# Define windowing logic\n",
        "seven_day_window = SlidingWindows(size=7*24*60*60, period=24*60*60)\n",
        "thirty_day_window = SlidingWindows(size=30*24*60*60, period=24*60*60)\n",
        "\n",
        "# Average number of orders over 7-day and 30-day windows\n",
        "# Average number of orders over 7-day and 30-day windows\n",
        "avg_orders_7_days = (orders\n",
        "                     | 'Window 7 days' >> beam.WindowInto(seven_day_window)\n",
        "                     | 'Count 7 days' >> beam.combiners.Count.Globally().without_defaults()\n",
        "                     | 'Average 7 days' >> beam.combiners.Mean.Globally().without_defaults())\n",
        "\n",
        "avg_orders_30_days = (orders\n",
        "                      | 'Window 30 days' >> beam.WindowInto(thirty_day_window)\n",
        "                      | 'Count 30 days' >> beam.combiners.Count.Globally().without_defaults()\n",
        "                      | 'Average 30 days' >> beam.combiners.Mean.Globally().without_defaults())\n",
        "\n",
        "\n",
        "# Combine results\n",
        "# Use a DoFn to format the results and include window information\n",
        "class FormatResult(beam.DoFn):\n",
        "    def process(self, element, window=beam.DoFn.WindowParam):\n",
        "        try:\n",
        "            start = window.start.to_utc_datetime().date()\n",
        "            end = window.end.to_utc_datetime().date()\n",
        "            window_str = f\"{start} - {end}\"\n",
        "            return [{'window': window_str, 'average_orders': element}]\n",
        "        except OverflowError:\n",
        "            # Handle or log the error as appropriate for your application\n",
        "            return []\n",
        "\n",
        "\n",
        "# Combine both 7-day and 30-day window results\n",
        "results = ([(avg_orders_7_days, '7 days'), (avg_orders_30_days, '30 days')]\n",
        "           | beam.Flatten()\n",
        "           | beam.ParDo(FormatResult()))\n",
        "\n",
        "# Write results to Parquet\n",
        "(results\n",
        " | 'Write to Parquet' >> WriteToParquet('/content/drive/My Drive/Datasets/output.parquet', schema=parquet_schema))\n",
        "\n",
        "# Run the pipeline\n",
        "p.run()\n"
      ],
      "metadata": {
        "id": "CTvUjonsGY_N",
        "colab": {
          "base_uri": "https://localhost:8080/"
        },
        "outputId": "430dfa25-85b4-4348-f1eb-f03a383b8cef"
      },
      "execution_count": 9,
      "outputs": [
        {
          "output_type": "stream",
          "name": "stderr",
          "text": [
            "WARNING:apache_beam.options.pipeline_options:Discarding unparseable args: ['/usr/local/lib/python3.10/dist-packages/colab_kernel_launcher.py', '-f', '/root/.local/share/jupyter/runtime/kernel-b3bebe3b-c595-4a2c-855a-009247ef05f9.json']\n",
            "WARNING:apache_beam.options.pipeline_options:Discarding unparseable args: ['/usr/local/lib/python3.10/dist-packages/colab_kernel_launcher.py', '-f', '/root/.local/share/jupyter/runtime/kernel-b3bebe3b-c595-4a2c-855a-009247ef05f9.json']\n",
            "WARNING:apache_beam.options.pipeline_options:Discarding unparseable args: ['/usr/local/lib/python3.10/dist-packages/colab_kernel_launcher.py', '-f', '/root/.local/share/jupyter/runtime/kernel-b3bebe3b-c595-4a2c-855a-009247ef05f9.json']\n",
            "WARNING:apache_beam.io.filebasedsink:No shards found to finalize. num_shards: 1, skipped: 1\n"
          ]
        },
        {
          "output_type": "execute_result",
          "data": {
            "text/plain": [
              "<apache_beam.runners.portability.fn_api_runner.fn_runner.RunnerResult at 0x7b13adeca0b0>"
            ]
          },
          "metadata": {},
          "execution_count": 9
        }
      ]
    },
    {
      "cell_type": "markdown",
      "source": [
        "#Question 6: Anomaly Detection on Streams"
      ],
      "metadata": {
        "id": "xsp3lFIYtsyJ"
      }
    },
    {
      "cell_type": "markdown",
      "source": [
        "**1.\tProduce an exploratory data analysis (EDA) notebook to investigate the initial data. Summarise your conclusions/insights in the topmost cell block (in markdown).**"
      ],
      "metadata": {
        "id": "CSD-eq_ltujW"
      }
    },
    {
      "cell_type": "code",
      "source": [
        "#1. Exploratory Data Analysis (EDA)\n",
        "import pandas as pd\n",
        "import matplotlib.pyplot as plt\n",
        "\n",
        "# Load the data\n",
        "data = pd.read_csv('/content/drive/My Drive/Datasets/uni-anom-line.csv')\n",
        "\n",
        "# Basic statistics\n",
        "print(data.describe())\n",
        "\n",
        "# Visualization\n",
        "plt.figure(figsize=(14, 6))\n",
        "plt.plot(data['metric'])\n",
        "plt.title('Metric Over Time')\n",
        "plt.xlabel('Time')\n",
        "plt.ylabel('Metric Value')\n",
        "plt.grid(True)\n",
        "plt.show()\n",
        "\n",
        "# Histogram\n",
        "plt.figure(figsize=(8, 6))\n",
        "plt.hist(data['metric'], bins=30, edgecolor='black')\n",
        "plt.title('Distribution of Metric Values')\n",
        "plt.xlabel('Metric Value')\n",
        "plt.ylabel('Frequency')\n",
        "plt.grid(True)\n",
        "plt.show()\n"
      ],
      "metadata": {
        "id": "Eu6iSg3-IYTt",
        "colab": {
          "base_uri": "https://localhost:8080/",
          "height": 1000
        },
        "outputId": "5189a920-2e1e-4f3b-99bb-d563831fe06c"
      },
      "execution_count": 10,
      "outputs": [
        {
          "output_type": "stream",
          "name": "stdout",
          "text": [
            "        Unnamed: 0        metric\n",
            "count  10000.00000  10000.000000\n",
            "mean    4999.50000   1123.931977\n",
            "std     2886.89568     63.648404\n",
            "min        0.00000   1023.850000\n",
            "25%     2499.75000   1062.987500\n",
            "50%     4999.50000   1122.875000\n",
            "75%     7499.25000   1174.842500\n",
            "max     9999.00000   1242.890000\n"
          ]
        },
        {
          "output_type": "display_data",
          "data": {
            "text/plain": [
              "<Figure size 1400x600 with 1 Axes>"
            ],
            "image/png": "[encoded data removed]"
          },
          "metadata": {}
        },
        {
          "output_type": "display_data",
          "data": {
            "text/plain": [
              "<Figure size 800x600 with 1 Axes>"
            ],
            "image/png": "[encoded data removed]"
          },
          "metadata": {}
        }
      ]
    },
    {
      "cell_type": "markdown",
      "source": [
        "Based on the summary statistics and the graph below, the value \"count\" of 10,000 indicates the number of observations available in our dataset.This is crucial for determining the dataset's size and the scope of the data being evaluated. When detecting anomalies, it's essential to pinpoint data points that significantly diverge from the norm.\n",
        "\n",
        "The value \"mean\" of around 1123.93 serves as a benchmark for what can be considered a typical or expected metric value. In anomaly detection, deviations from this mean value may indicate anomalies. For instance, data points that fall well below or above this mean may require closer examination as potential anomalies.\n",
        "\n",
        "The value \"std\" (standard deviation) of approximately 63.65 measures the typical amount of variation in the data. In the context of anomaly detection, a larger standard deviation indicates greater variability in the metric values. Anomalies are often identified by their deviation from the norm, so understanding the standard deviation is crucial in defining the threshold for what constitutes an abnormal deviation."
      ],
      "metadata": {
        "id": "Swo84F_bUS4q"
      }
    },
    {
      "cell_type": "markdown",
      "source": [
        "**2.\tSelect a simple Scikit-learn method for detection and motivate the choice.**"
      ],
      "metadata": {
        "id": "XRjco9hKtzsL"
      }
    },
    {
      "cell_type": "code",
      "source": [
        "#2. Simple Scikit-learn Method for Detection\n",
        "from sklearn.ensemble import IsolationForest\n",
        "\n",
        "# Data preparation\n",
        "X = data['metric'].values.reshape(-1, 1)  # Corrected 'value' to 'metric'\n",
        "\n",
        "# Initialize the IsolationForest model\n",
        "model = IsolationForest(contamination=0.05)  # assuming 5% of the data might be outliers\n",
        "\n",
        "# Fit the model\n",
        "model.fit(X)\n"
      ],
      "metadata": {
        "id": "CabJq4FEIeZ0",
        "colab": {
          "base_uri": "https://localhost:8080/",
          "height": 74
        },
        "outputId": "cec96456-e495-4be8-f3aa-55e954953d46"
      },
      "execution_count": 11,
      "outputs": [
        {
          "output_type": "execute_result",
          "data": {
            "text/plain": [
              "IsolationForest(contamination=0.05)"
            ],
            "text/html": [
              "<style>#sk-container-id-1 {color: black;background-color: white;}#sk-container-id-1 pre{padding: 0;}#sk-container-id-1 div.sk-toggleable {background-color: white;}#sk-container-id-1 label.sk-toggleable__label {cursor: pointer;display: block;width: 100%;margin-bottom: 0;padding: 0.3em;box-sizing: border-box;text-align: center;}#sk-container-id-1 label.sk-toggleable__label-arrow:before {content: \"▸\";float: left;margin-right: 0.25em;color: #696969;}#sk-container-id-1 label.sk-toggleable__label-arrow:hover:before {color: black;}#sk-container-id-1 div.sk-estimator:hover label.sk-toggleable__label-arrow:before {color: black;}#sk-container-id-1 div.sk-toggleable__content {max-height: 0;max-width: 0;overflow: hidden;text-align: left;background-color: #f0f8ff;}#sk-container-id-1 div.sk-toggleable__content pre {margin: 0.2em;color: black;border-radius: 0.25em;background-color: #f0f8ff;}#sk-container-id-1 input.sk-toggleable__control:checked~div.sk-toggleable__content {max-height: 200px;max-width: 100%;overflow: auto;}#sk-container-id-1 input.sk-toggleable__control:checked~label.sk-toggleable__label-arrow:before {content: \"▾\";}#sk-container-id-1 div.sk-estimator input.sk-toggleable__control:checked~label.sk-toggleable__label {background-color: #d4ebff;}#sk-container-id-1 div.sk-label input.sk-toggleable__control:checked~label.sk-toggleable__label {background-color: #d4ebff;}#sk-container-id-1 input.sk-hidden--visually {border: 0;clip: rect(1px 1px 1px 1px);clip: rect(1px, 1px, 1px, 1px);height: 1px;margin: -1px;overflow: hidden;padding: 0;position: absolute;width: 1px;}#sk-container-id-1 div.sk-estimator {font-family: monospace;background-color: #f0f8ff;border: 1px dotted black;border-radius: 0.25em;box-sizing: border-box;margin-bottom: 0.5em;}#sk-container-id-1 div.sk-estimator:hover {background-color: #d4ebff;}#sk-container-id-1 div.sk-parallel-item::after {content: \"\";width: 100%;border-bottom: 1px solid gray;flex-grow: 1;}#sk-container-id-1 div.sk-label:hover label.sk-toggleable__label {background-color: #d4ebff;}#sk-container-id-1 div.sk-serial::before {content: \"\";position: absolute;border-left: 1px solid gray;box-sizing: border-box;top: 0;bottom: 0;left: 50%;z-index: 0;}#sk-container-id-1 div.sk-serial {display: flex;flex-direction: column;align-items: center;background-color: white;padding-right: 0.2em;padding-left: 0.2em;position: relative;}#sk-container-id-1 div.sk-item {position: relative;z-index: 1;}#sk-container-id-1 div.sk-parallel {display: flex;align-items: stretch;justify-content: center;background-color: white;position: relative;}#sk-container-id-1 div.sk-item::before, #sk-container-id-1 div.sk-parallel-item::before {content: \"\";position: absolute;border-left: 1px solid gray;box-sizing: border-box;top: 0;bottom: 0;left: 50%;z-index: -1;}#sk-container-id-1 div.sk-parallel-item {display: flex;flex-direction: column;z-index: 1;position: relative;background-color: white;}#sk-container-id-1 div.sk-parallel-item:first-child::after {align-self: flex-end;width: 50%;}#sk-container-id-1 div.sk-parallel-item:last-child::after {align-self: flex-start;width: 50%;}#sk-container-id-1 div.sk-parallel-item:only-child::after {width: 0;}#sk-container-id-1 div.sk-dashed-wrapped {border: 1px dashed gray;margin: 0 0.4em 0.5em 0.4em;box-sizing: border-box;padding-bottom: 0.4em;background-color: white;}#sk-container-id-1 div.sk-label label {font-family: monospace;font-weight: bold;display: inline-block;line-height: 1.2em;}#sk-container-id-1 div.sk-label-container {text-align: center;}#sk-container-id-1 div.sk-container {/* jupyter's `normalize.less` sets `[hidden] { display: none; }` but bootstrap.min.css set `[hidden] { display: none !important; }` so we also need the `!important` here to be able to override the default hidden behavior on the sphinx rendered scikit-learn.org. See: https://github.com/scikit-learn/scikit-learn/issues/21755 */display: inline-block !important;position: relative;}#sk-container-id-1 div.sk-text-repr-fallback {display: none;}</style><div id=\"sk-container-id-1\" class=\"sk-top-container\"><div class=\"sk-text-repr-fallback\"><pre>IsolationForest(contamination=0.05)</pre><b>In a Jupyter environment, please rerun this cell to show the HTML representation or trust the notebook. <br />On GitHub, the HTML representation is unable to render, please try loading this page with nbviewer.org.</b></div><div class=\"sk-container\" hidden><div class=\"sk-item\"><div class=\"sk-estimator sk-toggleable\"><input class=\"sk-toggleable__control sk-hidden--visually\" id=\"sk-estimator-id-1\" type=\"checkbox\" checked><label for=\"sk-estimator-id-1\" class=\"sk-toggleable__label sk-toggleable__label-arrow\">IsolationForest</label><div class=\"sk-toggleable__content\"><pre>IsolationForest(contamination=0.05)</pre></div></div></div></div></div>"
            ]
          },
          "metadata": {},
          "execution_count": 11
        }
      ]
    },
    {
      "cell_type": "markdown",
      "source": [
        "**3.\tCreate a notebook demonstrating the fitting of the model (if applicable), as well as the test/inference step on a stream using the Sklearn RunInference transform. **"
      ],
      "metadata": {
        "id": "Ld8_dIyGt3ZU"
      }
    },
    {
      "cell_type": "code",
      "source": [
        "#3. Deployment on a Stream Using Custom DoFn for Scikit-learn Inference\n",
        "import apache_beam as beam\n",
        "from apache_beam.options.pipeline_options import PipelineOptions\n",
        "\n",
        "class PredictDoFn(beam.DoFn):\n",
        "    def __init__(self, model):\n",
        "        self.model = model\n",
        "\n",
        "    def process(self, element):\n",
        "        prediction = self.model.predict([[element]])  # Note the double brackets to reshape the input\n",
        "        yield (element, prediction[0])\n",
        "\n",
        "# Beam pipeline\n",
        "options = PipelineOptions()\n",
        "p = beam.Pipeline(options=options)\n",
        "\n",
        "# Simulating a stream using the loaded data\n",
        "stream_data = p | 'Create Stream' >> beam.Create(data['metric'].tolist())\n",
        "\n",
        "# Using the model for inference on the stream\n",
        "inference = (stream_data\n",
        "             | 'Run Inference' >> beam.ParDo(PredictDoFn(model))\n",
        "             | 'Write Results' >> beam.io.WriteToText('/content/drive/My Drive/Datasets/output.txt'))\n",
        "\n",
        "# Run the pipeline\n",
        "p.run()\n"
      ],
      "metadata": {
        "id": "Ap0jfrVTIm6M",
        "colab": {
          "base_uri": "https://localhost:8080/"
        },
        "outputId": "9d55b29f-f0d3-4729-eec2-0e61d7dd8050"
      },
      "execution_count": null,
      "outputs": [
        {
          "output_type": "stream",
          "name": "stderr",
          "text": [
            "WARNING:apache_beam.options.pipeline_options:Discarding unparseable args: ['-f', '/root/.local/share/jupyter/runtime/kernel-b3bebe3b-c595-4a2c-855a-009247ef05f9.json']\n",
            "WARNING:apache_beam.options.pipeline_options:Discarding unparseable args: ['-f', '/root/.local/share/jupyter/runtime/kernel-b3bebe3b-c595-4a2c-855a-009247ef05f9.json']\n"
          ]
        }
      ]
    },
    {
      "cell_type": "markdown",
      "source": [
        "**4.\tEvaluate the success/correctness of your implementation given the ground truth.**"
      ],
      "metadata": {
        "id": "dgKO6Ii4t7Ju"
      }
    },
    {
      "cell_type": "code",
      "source": [
        "import pandas as pd\n",
        "\n",
        "# Load the original dataset\n",
        "data = pd.read_csv('/content/drive/My Drive/Datasets/uni-anom-line.csv')\n",
        "\n",
        "# Load the results from the pipeline\n",
        "results = pd.read_csv('/content/drive/My Drive/Datasets/output.txt-00000-of-00001', header=None, names=['Value', 'Prediction'])\n",
        "\n",
        "# Anomalies are marked as -1 by the IsolationForest\n",
        "detected_anomalies = results[results['Prediction'] == -1]\n",
        "\n",
        "# Get the actual anomalies from the dataset\n",
        "actual_anomalies = data[data['anom']]\n",
        "\n",
        "# ... [previous code]\n",
        "\n",
        "# Calculate metrics\n",
        "true_positives = len(detected_anomalies[detected_anomalies['Value'].isin(actual_anomalies['metric'])])\n",
        "false_positives = len(detected_anomalies) - true_positives\n",
        "false_negatives = len(actual_anomalies) - true_positives\n",
        "\n",
        "# Check if true_positives + false_positives is zero to avoid ZeroDivisionError\n",
        "if (true_positives + false_positives) == 0:\n",
        "    precision = 0\n",
        "else:\n",
        "    precision = true_positives / (true_positives + false_positives)\n",
        "\n",
        "# Check if true_positives + false_negatives is zero to avoid ZeroDivisionError\n",
        "if (true_positives + false_negatives) == 0:\n",
        "    recall = 0\n",
        "else:\n",
        "    recall = true_positives / (true_positives + false_negatives)\n",
        "\n",
        "# If either precision or recall is zero, F1-score will be zero\n",
        "if precision + recall == 0:\n",
        "    f1_score = 0\n",
        "else:\n",
        "    f1_score = 2 * (precision * recall) / (precision + recall)\n",
        "\n",
        "print(f\"Detected {len(detected_anomalies)} anomalies.\")\n",
        "print(detected_anomalies)\n",
        "\n",
        "\n"
      ],
      "metadata": {
        "id": "j07lgDF5Ipm8"
      },
      "execution_count": null,
      "outputs": []
    }
  ]
}